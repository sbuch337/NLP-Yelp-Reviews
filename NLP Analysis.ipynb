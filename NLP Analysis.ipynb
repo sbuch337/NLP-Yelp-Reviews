{
 "cells": [
  {
   "cell_type": "code",
   "execution_count": 1,
   "id": "fa10ceef",
   "metadata": {},
   "outputs": [],
   "source": [
    "#import packages\n",
    "import pandas as pd\n",
    "import numpy as np\n",
    "import matplotlib.pyplot as plt\n",
    "import seaborn as sns\n",
    "from scipy import stats\n",
    "import nltk\n",
    "import contractions\n",
    "import re\n",
    "import string\n",
    "from nltk.corpus import stopwords\n",
    "from nltk.stem import WordNetLemmatizer \n",
    "from nltk.tokenize import word_tokenize\n",
    "\n",
    "from sklearn.model_selection import train_test_split, cross_val_score, GridSearchCV, StratifiedKFold\n",
    "from sklearn.feature_extraction.text import TfidfVectorizer\n",
    "from sklearn.naive_bayes import MultinomialNB\n",
    "from sklearn.pipeline import Pipeline\n",
    "from sklearn.preprocessing import StandardScaler, MinMaxScaler\n",
    "from sklearn.naive_bayes import GaussianNB, CategoricalNB, MultinomialNB\n",
    "from sklearn.metrics import accuracy_score\n",
    "from sklearn.neighbors import KNeighborsClassifier\n",
    "\n",
    "from sklearn.feature_extraction.text import CountVectorizer\n",
    "from sklearn.feature_extraction.text import TfidfTransformer\n",
    "\n",
    "import sklearn_crfsuite\n",
    "from sklearn_crfsuite import metrics\n",
    "\n",
    "from sklearn.svm import SVC\n",
    "from sklearn import tree\n",
    "from sklearn.ensemble import RandomForestClassifier\n",
    "from sklearn.linear_model import SGDClassifier\n",
    "\n",
    "from prettytable import PrettyTable\n",
    "from collections import Counter"
   ]
  },
  {
   "cell_type": "code",
   "execution_count": 2,
   "id": "6676d642",
   "metadata": {},
   "outputs": [
    {
     "data": {
      "text/html": [
       "<div>\n",
       "<style scoped>\n",
       "    .dataframe tbody tr th:only-of-type {\n",
       "        vertical-align: middle;\n",
       "    }\n",
       "\n",
       "    .dataframe tbody tr th {\n",
       "        vertical-align: top;\n",
       "    }\n",
       "\n",
       "    .dataframe thead th {\n",
       "        text-align: right;\n",
       "    }\n",
       "</style>\n",
       "<table border=\"1\" class=\"dataframe\">\n",
       "  <thead>\n",
       "    <tr style=\"text-align: right;\">\n",
       "      <th></th>\n",
       "      <th>review_id</th>\n",
       "      <th>user_id</th>\n",
       "      <th>business_id</th>\n",
       "      <th>stars</th>\n",
       "      <th>useful</th>\n",
       "      <th>funny</th>\n",
       "      <th>cool</th>\n",
       "      <th>text</th>\n",
       "      <th>date</th>\n",
       "    </tr>\n",
       "  </thead>\n",
       "  <tbody>\n",
       "    <tr>\n",
       "      <th>0</th>\n",
       "      <td>lWC-xP3rd6obsecCYsGZRg</td>\n",
       "      <td>ak0TdVmGKo4pwqdJSTLwWw</td>\n",
       "      <td>buF9druCkbuXLX526sGELQ</td>\n",
       "      <td>4</td>\n",
       "      <td>3</td>\n",
       "      <td>1</td>\n",
       "      <td>1</td>\n",
       "      <td>Apparently Prides Osteria had a rough summer a...</td>\n",
       "      <td>2014-10-11 03:34:02</td>\n",
       "    </tr>\n",
       "    <tr>\n",
       "      <th>1</th>\n",
       "      <td>8bFej1QE5LXp4O05qjGqXA</td>\n",
       "      <td>YoVfDbnISlW0f7abNQACIg</td>\n",
       "      <td>RA4V8pr014UyUbDvI-LW2A</td>\n",
       "      <td>4</td>\n",
       "      <td>1</td>\n",
       "      <td>0</td>\n",
       "      <td>0</td>\n",
       "      <td>This store is pretty good. Not as great as Wal...</td>\n",
       "      <td>2015-07-03 20:38:25</td>\n",
       "    </tr>\n",
       "    <tr>\n",
       "      <th>2</th>\n",
       "      <td>NDhkzczKjLshODbqDoNLSg</td>\n",
       "      <td>eC5evKn1TWDyHCyQAwguUw</td>\n",
       "      <td>_sS2LBIGNT5NQb6PD1Vtjw</td>\n",
       "      <td>5</td>\n",
       "      <td>0</td>\n",
       "      <td>0</td>\n",
       "      <td>0</td>\n",
       "      <td>I called WVM on the recommendation of a couple...</td>\n",
       "      <td>2013-05-28 20:38:06</td>\n",
       "    </tr>\n",
       "    <tr>\n",
       "      <th>3</th>\n",
       "      <td>T5fAqjjFooT4V0OeZyuk1w</td>\n",
       "      <td>SFQ1jcnGguO0LYWnbbftAA</td>\n",
       "      <td>0AzLzHfOJgL7ROwhdww2ew</td>\n",
       "      <td>2</td>\n",
       "      <td>1</td>\n",
       "      <td>1</td>\n",
       "      <td>1</td>\n",
       "      <td>I've stayed at many Marriott and Renaissance M...</td>\n",
       "      <td>2010-01-08 02:29:15</td>\n",
       "    </tr>\n",
       "    <tr>\n",
       "      <th>4</th>\n",
       "      <td>sjm_uUcQVxab_EeLCqsYLg</td>\n",
       "      <td>0kA0PAJ8QFMeveQWHFqz2A</td>\n",
       "      <td>8zehGz9jnxPqXtOc7KaJxA</td>\n",
       "      <td>4</td>\n",
       "      <td>0</td>\n",
       "      <td>0</td>\n",
       "      <td>0</td>\n",
       "      <td>The food is always great here. The service fro...</td>\n",
       "      <td>2011-07-28 18:05:01</td>\n",
       "    </tr>\n",
       "  </tbody>\n",
       "</table>\n",
       "</div>"
      ],
      "text/plain": [
       "                review_id                 user_id             business_id  \\\n",
       "0  lWC-xP3rd6obsecCYsGZRg  ak0TdVmGKo4pwqdJSTLwWw  buF9druCkbuXLX526sGELQ   \n",
       "1  8bFej1QE5LXp4O05qjGqXA  YoVfDbnISlW0f7abNQACIg  RA4V8pr014UyUbDvI-LW2A   \n",
       "2  NDhkzczKjLshODbqDoNLSg  eC5evKn1TWDyHCyQAwguUw  _sS2LBIGNT5NQb6PD1Vtjw   \n",
       "3  T5fAqjjFooT4V0OeZyuk1w  SFQ1jcnGguO0LYWnbbftAA  0AzLzHfOJgL7ROwhdww2ew   \n",
       "4  sjm_uUcQVxab_EeLCqsYLg  0kA0PAJ8QFMeveQWHFqz2A  8zehGz9jnxPqXtOc7KaJxA   \n",
       "\n",
       "   stars  useful  funny  cool  \\\n",
       "0      4       3      1     1   \n",
       "1      4       1      0     0   \n",
       "2      5       0      0     0   \n",
       "3      2       1      1     1   \n",
       "4      4       0      0     0   \n",
       "\n",
       "                                                text                date  \n",
       "0  Apparently Prides Osteria had a rough summer a... 2014-10-11 03:34:02  \n",
       "1  This store is pretty good. Not as great as Wal... 2015-07-03 20:38:25  \n",
       "2  I called WVM on the recommendation of a couple... 2013-05-28 20:38:06  \n",
       "3  I've stayed at many Marriott and Renaissance M... 2010-01-08 02:29:15  \n",
       "4  The food is always great here. The service fro... 2011-07-28 18:05:01  "
      ]
     },
     "execution_count": 2,
     "metadata": {},
     "output_type": "execute_result"
    }
   ],
   "source": [
    "reviews = pd.read_json('yelp_reviews.json', lines=True)\n",
    "reviews.head()"
   ]
  },
  {
   "cell_type": "code",
   "execution_count": 3,
   "id": "3e9c5326",
   "metadata": {},
   "outputs": [],
   "source": [
    "reviews = reviews[reviews['funny']==0]"
   ]
  },
  {
   "cell_type": "code",
   "execution_count": 4,
   "id": "14db278e",
   "metadata": {},
   "outputs": [],
   "source": [
    "reviews['text_length'] = reviews.text.map(len)"
   ]
  },
  {
   "cell_type": "code",
   "execution_count": 5,
   "id": "3133ee09",
   "metadata": {},
   "outputs": [
    {
     "data": {
      "image/png": "[encoded data removed]",
      "text/plain": [
       "<Figure size 1088x216 with 5 Axes>"
      ]
     },
     "metadata": {
      "needs_background": "light"
     },
     "output_type": "display_data"
    }
   ],
   "source": [
    "#is there a trend with review length and number of stars given?\n",
    "graph = sns.FacetGrid(reviews, col =\"stars\").map(plt.hist, \"text_length\", bins=50).add_legend();"
   ]
  },
  {
   "cell_type": "code",
   "execution_count": 6,
   "id": "9d93208b",
   "metadata": {},
   "outputs": [
    {
     "data": {
      "image/png": "[encoded data removed]",
      "text/plain": [
       "<Figure size 432x288 with 1 Axes>"
      ]
     },
     "metadata": {
      "needs_background": "light"
     },
     "output_type": "display_data"
    }
   ],
   "source": [
    "sns.countplot(x ='stars', data = reviews);"
   ]
  },
  {
   "cell_type": "code",
   "execution_count": 7,
   "id": "be307385",
   "metadata": {
    "scrolled": true
   },
   "outputs": [
    {
     "data": {
      "text/html": [
       "<div>\n",
       "<style scoped>\n",
       "    .dataframe tbody tr th:only-of-type {\n",
       "        vertical-align: middle;\n",
       "    }\n",
       "\n",
       "    .dataframe tbody tr th {\n",
       "        vertical-align: top;\n",
       "    }\n",
       "\n",
       "    .dataframe thead th {\n",
       "        text-align: right;\n",
       "    }\n",
       "</style>\n",
       "<table border=\"1\" class=\"dataframe\">\n",
       "  <thead>\n",
       "    <tr style=\"text-align: right;\">\n",
       "      <th></th>\n",
       "      <th>text</th>\n",
       "      <th>stars</th>\n",
       "    </tr>\n",
       "  </thead>\n",
       "  <tbody>\n",
       "    <tr>\n",
       "      <th>1</th>\n",
       "      <td>This store is pretty good. Not as great as Wal...</td>\n",
       "      <td>4</td>\n",
       "    </tr>\n",
       "    <tr>\n",
       "      <th>2</th>\n",
       "      <td>I called WVM on the recommendation of a couple...</td>\n",
       "      <td>5</td>\n",
       "    </tr>\n",
       "    <tr>\n",
       "      <th>4</th>\n",
       "      <td>The food is always great here. The service fro...</td>\n",
       "      <td>4</td>\n",
       "    </tr>\n",
       "    <tr>\n",
       "      <th>5</th>\n",
       "      <td>This place used to be a cool, chill place. Now...</td>\n",
       "      <td>1</td>\n",
       "    </tr>\n",
       "    <tr>\n",
       "      <th>6</th>\n",
       "      <td>The setting is perfectly adequate, and the foo...</td>\n",
       "      <td>2</td>\n",
       "    </tr>\n",
       "  </tbody>\n",
       "</table>\n",
       "</div>"
      ],
      "text/plain": [
       "                                                text  stars\n",
       "1  This store is pretty good. Not as great as Wal...      4\n",
       "2  I called WVM on the recommendation of a couple...      5\n",
       "4  The food is always great here. The service fro...      4\n",
       "5  This place used to be a cool, chill place. Now...      1\n",
       "6  The setting is perfectly adequate, and the foo...      2"
      ]
     },
     "execution_count": 7,
     "metadata": {},
     "output_type": "execute_result"
    }
   ],
   "source": [
    "yelp_df = reviews[['text', 'stars']].copy()\n",
    "yelp_df.head()"
   ]
  },
  {
   "cell_type": "code",
   "execution_count": 8,
   "id": "8edf196c",
   "metadata": {},
   "outputs": [
    {
     "data": {
      "text/plain": [
       "text     0\n",
       "stars    0\n",
       "dtype: int64"
      ]
     },
     "execution_count": 8,
     "metadata": {},
     "output_type": "execute_result"
    }
   ],
   "source": [
    "#check for missing data\n",
    "yelp_df.isna().sum()"
   ]
  },
  {
   "cell_type": "code",
   "execution_count": 9,
   "id": "6d0385c4",
   "metadata": {},
   "outputs": [
    {
     "data": {
      "text/plain": [
       "text     object\n",
       "stars     int64\n",
       "dtype: object"
      ]
     },
     "execution_count": 9,
     "metadata": {},
     "output_type": "execute_result"
    }
   ],
   "source": [
    "yelp_df.dtypes"
   ]
  },
  {
   "cell_type": "code",
   "execution_count": 10,
   "id": "73b9f064",
   "metadata": {},
   "outputs": [
    {
     "data": {
      "text/plain": [
       "73640"
      ]
     },
     "execution_count": 10,
     "metadata": {},
     "output_type": "execute_result"
    }
   ],
   "source": [
    "len(reviews)"
   ]
  },
  {
   "cell_type": "code",
   "execution_count": 11,
   "id": "c71e16b8",
   "metadata": {},
   "outputs": [
    {
     "data": {
      "text/plain": [
       "array([4, 5, 1, 2, 3])"
      ]
     },
     "execution_count": 11,
     "metadata": {},
     "output_type": "execute_result"
    }
   ],
   "source": [
    "yelp_df['stars'].unique()"
   ]
  },
  {
   "cell_type": "code",
   "execution_count": 12,
   "id": "2e1e17f1",
   "metadata": {},
   "outputs": [],
   "source": [
    "lemmatizer = WordNetLemmatizer()\n",
    "def clean(text, stopwords):\n",
    "    # remove tags like <tab>\n",
    "    text = re.sub(r'<[^<>]*>', ' ', text) \n",
    "    # split text on whitespace\n",
    "    text_list = text.split()\n",
    "    expanded_words = []\n",
    "    text_words = []\n",
    "    \n",
    "    punctuation = set(string.punctuation)\n",
    "    punctuation.add(\"“\")\n",
    "    punctuation.add(\"”\")\n",
    "    \n",
    "    # keep #tags and @mentions\n",
    "    ## punctuation.remove(\"#\")\n",
    "    ## punctuation.remove(\"@\")\n",
    "    \n",
    "    #expand contractions\n",
    "    for word in text_list:\n",
    "        expanded_words.append(contractions.fix(word))\n",
    "    \n",
    "    for word in expanded_words:\n",
    "        # remove punctuation marks at the beginning\n",
    "        # of each word\n",
    "        while len(word) > 0 and word[0] in punctuation:\n",
    "            word = word[1:]\n",
    "        # remove punctuation marks at the end of each word\n",
    "        while len(word) > 0 and word[-1] in punctuation: \n",
    "            word = word[:-1]\n",
    "        # a rule to eliminate most urls\n",
    "        if len(word) > 0 and \"/\" not in word: \n",
    "            # eliminate stopwords\n",
    "            if word.lower() not in stopwords:\n",
    "                # append the word to the text_words list\n",
    "                text_words.append(word.lower())\n",
    "    \n",
    "    #lemmatize words\n",
    "    cleaner_text = ' '.join([lemmatizer.lemmatize(w) for w in text_words])\n",
    "    \n",
    "    return cleaner_text"
   ]
  },
  {
   "cell_type": "code",
   "execution_count": 13,
   "id": "151f6dad",
   "metadata": {},
   "outputs": [
    {
     "name": "stdout",
     "output_type": "stream",
     "text": [
      "Before Cleaning \n",
      "\n",
      "Checked in about 11pm. I had room on first floor my other family in 3rd floor. Hair all over my sheets. Everything from long hair to straight hair to pubic hair. I was exhausted. Last thing I wanted to do at midnight was remake a bed. Went to front desk it literally took forever for her to find me \"clean\" sheets. Went back to room and \"clean\" sheets then had blood or feces on them. I was so disgusted I should have slept in my car. Instead I took the one clean top sheet and slept on top of that. All the hallways reek of cigarette smoke! The rooms were non smoking yet had ashtrays! The next morning I'm getting dressed and see blood or feces or something smeared on the wall by bathroom! Will never ever stay here again. The night front desk agent was nice but morning front desk was extremely rude! She was standing on her cell phone and completely ignored me until I asked her if she wanted the room keys. Her reply \"I guess since you already walked them all the way here\" SMDH\n",
      "\n",
      " After Cleaning \n",
      "\n",
      "checked 11pm room first floor family 3rd floor hair sheet everything long hair straight hair pubic hair exhausted last thing wanted midnight remake bed went front desk literally took forever find clean sheet went back room clean sheet blood feces disgusted slept car instead took one clean top sheet slept top hallway reek cigarette smoke room non smoking yet ashtray next morning i am getting dressed see blood feces something smeared wall bathroom never ever stay night front desk agent nice morning front desk extremely rude standing cell phone completely ignored asked wanted room key reply guess since already walked way smdh\n"
     ]
    }
   ],
   "source": [
    "sw = set(stopwords.words(\"english\"))\n",
    "#check cleaning\n",
    "print('Before Cleaning \\n')\n",
    "print(yelp_df.iloc[888]['text'])\n",
    "print('\\n After Cleaning \\n')\n",
    "print(clean(yelp_df.iloc[888]['text'], sw))\n"
   ]
  },
  {
   "cell_type": "code",
   "execution_count": 14,
   "id": "7a04fa70",
   "metadata": {},
   "outputs": [
    {
     "data": {
      "text/html": [
       "<div>\n",
       "<style scoped>\n",
       "    .dataframe tbody tr th:only-of-type {\n",
       "        vertical-align: middle;\n",
       "    }\n",
       "\n",
       "    .dataframe tbody tr th {\n",
       "        vertical-align: top;\n",
       "    }\n",
       "\n",
       "    .dataframe thead th {\n",
       "        text-align: right;\n",
       "    }\n",
       "</style>\n",
       "<table border=\"1\" class=\"dataframe\">\n",
       "  <thead>\n",
       "    <tr style=\"text-align: right;\">\n",
       "      <th></th>\n",
       "      <th>text</th>\n",
       "      <th>stars</th>\n",
       "    </tr>\n",
       "  </thead>\n",
       "  <tbody>\n",
       "    <tr>\n",
       "      <th>1</th>\n",
       "      <td>store pretty good great walmart preferred milf...</td>\n",
       "      <td>4</td>\n",
       "    </tr>\n",
       "    <tr>\n",
       "      <th>2</th>\n",
       "      <td>called wvm recommendation couple friend used p...</td>\n",
       "      <td>5</td>\n",
       "    </tr>\n",
       "    <tr>\n",
       "      <th>4</th>\n",
       "      <td>food always great service manager well staff s...</td>\n",
       "      <td>4</td>\n",
       "    </tr>\n",
       "    <tr>\n",
       "      <th>5</th>\n",
       "      <td>place used cool chill place bunch neanderthal ...</td>\n",
       "      <td>1</td>\n",
       "    </tr>\n",
       "    <tr>\n",
       "      <th>6</th>\n",
       "      <td>setting perfectly adequate food come close din...</td>\n",
       "      <td>2</td>\n",
       "    </tr>\n",
       "  </tbody>\n",
       "</table>\n",
       "</div>"
      ],
      "text/plain": [
       "                                                text  stars\n",
       "1  store pretty good great walmart preferred milf...      4\n",
       "2  called wvm recommendation couple friend used p...      5\n",
       "4  food always great service manager well staff s...      4\n",
       "5  place used cool chill place bunch neanderthal ...      1\n",
       "6  setting perfectly adequate food come close din...      2"
      ]
     },
     "execution_count": 14,
     "metadata": {},
     "output_type": "execute_result"
    }
   ],
   "source": [
    "yelp_df['text'] = yelp_df['text'].apply(clean, stopwords=sw) \n",
    "yelp_df.head()"
   ]
  },
  {
   "cell_type": "code",
   "execution_count": 15,
   "id": "9bf884ee",
   "metadata": {},
   "outputs": [
    {
     "data": {
      "text/plain": [
       "5    32575\n",
       "4    18798\n",
       "3     8600\n",
       "1     7819\n",
       "2     5848\n",
       "Name: stars, dtype: int64"
      ]
     },
     "execution_count": 15,
     "metadata": {},
     "output_type": "execute_result"
    }
   ],
   "source": [
    "yelp_df.stars.value_counts()"
   ]
  },
  {
   "cell_type": "code",
   "execution_count": 16,
   "id": "6492edf4",
   "metadata": {},
   "outputs": [
    {
     "data": {
      "text/plain": [
       "(73640, 2)"
      ]
     },
     "execution_count": 16,
     "metadata": {},
     "output_type": "execute_result"
    }
   ],
   "source": [
    "yelp_df2 = yelp_df[yelp_df['text'].str.len() > 0] \n",
    "yelp_df2.shape"
   ]
  },
  {
   "cell_type": "code",
   "execution_count": 17,
   "id": "4fff9a1c",
   "metadata": {},
   "outputs": [],
   "source": [
    "X = yelp_df2.text\n",
    "y = yelp_df2.stars"
   ]
  },
  {
   "cell_type": "code",
   "execution_count": 18,
   "id": "883a0eca",
   "metadata": {},
   "outputs": [],
   "source": [
    "X_train_full, X_test, y_train_full, y_test = train_test_split(X, y,stratify=y, test_size=0.10)\n",
    "X_train, X_valid, y_train, y_valid = train_test_split(X_train_full, y_train_full,stratify=y_train_full, test_size=0.18)"
   ]
  },
  {
   "cell_type": "code",
   "execution_count": 19,
   "id": "7def4ef4",
   "metadata": {
    "scrolled": true
   },
   "outputs": [
    {
     "name": "stdout",
     "output_type": "stream",
     "text": [
      "+------------------------+-----------------+\n",
      "|         model          | accuracy, Train |\n",
      "+------------------------+-----------------+\n",
      "|     MultinomialNB      |      0.6147     |\n",
      "|  KNeighborsClassifier  |      0.4621     |\n",
      "| RandomForestClassifier |      0.9998     |\n",
      "|     SGDClassifier      |      0.662      |\n",
      "+------------------------+-----------------+\n"
     ]
    }
   ],
   "source": [
    "models = [MultinomialNB(), KNeighborsClassifier(), RandomForestClassifier(), SGDClassifier()]\n",
    "\n",
    "tfidf = TfidfVectorizer(min_df=10, max_df=0.5, ngram_range=(1,1), token_pattern='[a-z][a-z][a-z]+')\n",
    "X_train_tfidf = tfidf.fit_transform(X_train)\n",
    "\n",
    "x = PrettyTable()\n",
    "\n",
    "x.field_names = ['model', 'accuracy, Train']\n",
    "\n",
    "for model in models:\n",
    "    model.fit(X_train_tfidf, y_train)\n",
    "    \n",
    "    acc_train = model.score(X_train_tfidf, y_train)\n",
    "\n",
    "    x.add_row([model.__class__.__name__, round(acc_train,4)])\n",
    "\n",
    "print(x)"
   ]
  },
  {
   "cell_type": "code",
   "execution_count": 20,
   "id": "e8072d91",
   "metadata": {},
   "outputs": [],
   "source": [
    "tfidf1 = TfidfVectorizer(min_df=10, max_df=0.5, ngram_range=(1,1), token_pattern='[a-z][a-z][a-z]+')\n",
    "words_1 = tfidf1.fit_transform(yelp_df2['text'][(yelp_df2['stars']== 1)])\n",
    "words_1 = words_1.toarray()\n",
    "words_1 = pd.DataFrame(words_1, columns=tfidf1.get_feature_names())"
   ]
  },
  {
   "cell_type": "code",
   "execution_count": 21,
   "id": "d5a8f7f9",
   "metadata": {},
   "outputs": [
    {
     "data": {
      "text/plain": [
       "food       272.231912\n",
       "service    231.368741\n",
       "time       220.004364\n",
       "place      218.489404\n",
       "would      214.175217\n",
       "get        188.913006\n",
       "back       180.425832\n",
       "one        178.996362\n",
       "order      178.801579\n",
       "like       168.822905\n",
       "dtype: float64"
      ]
     },
     "execution_count": 21,
     "metadata": {},
     "output_type": "execute_result"
    }
   ],
   "source": [
    "frequent_words_1 = words_1.sum(axis=0).sort_values(ascending=False)[:10]\n",
    "frequent_words_1"
   ]
  },
  {
   "cell_type": "code",
   "execution_count": 22,
   "id": "fd1c843e",
   "metadata": {},
   "outputs": [],
   "source": [
    "tfidf2 = TfidfVectorizer(min_df=10, max_df=0.5, ngram_range=(1,1), token_pattern='[a-z][a-z][a-z]+')\n",
    "words_2 = tfidf2.fit_transform(yelp_df2['text'][(yelp_df2['stars']== 2)])\n",
    "words_2 = words_2.toarray()\n",
    "words_2 = pd.DataFrame(words_2, columns=tfidf2.get_feature_names())"
   ]
  },
  {
   "cell_type": "code",
   "execution_count": 23,
   "id": "837ca3f6",
   "metadata": {},
   "outputs": [
    {
     "data": {
      "text/plain": [
       "food       245.824170\n",
       "good       188.700503\n",
       "place      182.394674\n",
       "service    166.331964\n",
       "time       161.073528\n",
       "would      153.932276\n",
       "like       148.930674\n",
       "get        132.182806\n",
       "one        130.222238\n",
       "back       124.882854\n",
       "dtype: float64"
      ]
     },
     "execution_count": 23,
     "metadata": {},
     "output_type": "execute_result"
    }
   ],
   "source": [
    "frequent_words_2 = words_2.sum(axis=0).sort_values(ascending=False)[:10]\n",
    "frequent_words_2"
   ]
  },
  {
   "cell_type": "code",
   "execution_count": 24,
   "id": "badc2155",
   "metadata": {},
   "outputs": [
    {
     "data": {
      "text/plain": [
       "food       344.162175\n",
       "place      288.337899\n",
       "would      232.549851\n",
       "service    220.042847\n",
       "like       214.549829\n",
       "great      213.945623\n",
       "time       210.936300\n",
       "get        188.345342\n",
       "really     180.336641\n",
       "one        169.573512\n",
       "dtype: float64"
      ]
     },
     "execution_count": 24,
     "metadata": {},
     "output_type": "execute_result"
    }
   ],
   "source": [
    "tfidf3 = TfidfVectorizer(min_df=10, max_df=0.5, ngram_range=(1,1), token_pattern='[a-z][a-z][a-z]+')\n",
    "words_3 = tfidf3.fit_transform(yelp_df2['text'][(yelp_df2['stars']== 3)])\n",
    "words_3 = words_3.toarray()\n",
    "words_3 = pd.DataFrame(words_3, columns=tfidf3.get_feature_names())\n",
    "frequent_words_3 = words_3.sum(axis=0).sort_values(ascending=False)[:10]\n",
    "frequent_words_3"
   ]
  },
  {
   "cell_type": "code",
   "execution_count": 25,
   "id": "113a181f",
   "metadata": {},
   "outputs": [
    {
     "data": {
      "text/plain": [
       "good       768.885339\n",
       "great      675.085512\n",
       "food       662.913559\n",
       "place      627.414418\n",
       "not        552.095838\n",
       "service    449.407091\n",
       "time       428.297015\n",
       "really     396.507606\n",
       "would      393.737261\n",
       "like       383.069489\n",
       "dtype: float64"
      ]
     },
     "execution_count": 25,
     "metadata": {},
     "output_type": "execute_result"
    }
   ],
   "source": [
    "tfidf4 = TfidfVectorizer(min_df=10, max_df=0.5, ngram_range=(1,1), token_pattern='[a-z][a-z][a-z]+')\n",
    "words_4 = tfidf4.fit_transform(yelp_df2['text'][(yelp_df2['stars']== 4)])\n",
    "words_4 = words_4.toarray()\n",
    "words_4 = pd.DataFrame(words_4, columns=tfidf4.get_feature_names())\n",
    "frequent_words_4 = words_4.sum(axis=0).sort_values(ascending=False)[:10]\n",
    "frequent_words_4"
   ]
  },
  {
   "cell_type": "code",
   "execution_count": 26,
   "id": "d40fd0b7",
   "metadata": {},
   "outputs": [
    {
     "data": {
      "text/plain": [
       "great      1246.121540\n",
       "food       1070.769241\n",
       "place      1048.648150\n",
       "good        865.692581\n",
       "service     819.801699\n",
       "not         807.509293\n",
       "time        718.236339\n",
       "best        683.179895\n",
       "love        664.826061\n",
       "amazing     621.117930\n",
       "dtype: float64"
      ]
     },
     "execution_count": 26,
     "metadata": {},
     "output_type": "execute_result"
    }
   ],
   "source": [
    "tfidf5 = TfidfVectorizer(min_df=10, max_df=0.5, ngram_range=(1,1), token_pattern='[a-z][a-z][a-z]+')\n",
    "words_5 = tfidf5.fit_transform(yelp_df2['text'][(yelp_df2['stars']== 5)])\n",
    "words_5 = words_5.toarray()\n",
    "words_5 = pd.DataFrame(words_5, columns=tfidf5.get_feature_names())\n",
    "frequent_words_5 = words_5.sum(axis=0).sort_values(ascending=False)[:10]\n",
    "frequent_words_5"
   ]
  },
  {
   "cell_type": "code",
   "execution_count": 27,
   "id": "334638e7",
   "metadata": {},
   "outputs": [
    {
     "data": {
      "text/plain": [
       "Pipeline(steps=[('tfidf',\n",
       "                 TfidfVectorizer(max_df=0.5, min_df=10,\n",
       "                                 token_pattern='[a-z][a-z][a-z]+')),\n",
       "                ('clf', RandomForestClassifier())])"
      ]
     },
     "execution_count": 27,
     "metadata": {},
     "output_type": "execute_result"
    }
   ],
   "source": [
    "reviews_pipe = Pipeline([(\"tfidf\",tfidf), \n",
    "                        (\"clf\", RandomForestClassifier())])\n",
    "\n",
    "reviews_pipe.fit(X_train, y_train)"
   ]
  },
  {
   "cell_type": "code",
   "execution_count": 28,
   "id": "0a28ddbd",
   "metadata": {},
   "outputs": [
    {
     "data": {
      "text/plain": [
       "{'memory': None,\n",
       " 'steps': [('tfidf',\n",
       "   TfidfVectorizer(max_df=0.5, min_df=10, token_pattern='[a-z][a-z][a-z]+')),\n",
       "  ('clf', RandomForestClassifier())],\n",
       " 'verbose': False,\n",
       " 'tfidf': TfidfVectorizer(max_df=0.5, min_df=10, token_pattern='[a-z][a-z][a-z]+'),\n",
       " 'clf': RandomForestClassifier(),\n",
       " 'tfidf__analyzer': 'word',\n",
       " 'tfidf__binary': False,\n",
       " 'tfidf__decode_error': 'strict',\n",
       " 'tfidf__dtype': numpy.float64,\n",
       " 'tfidf__encoding': 'utf-8',\n",
       " 'tfidf__input': 'content',\n",
       " 'tfidf__lowercase': True,\n",
       " 'tfidf__max_df': 0.5,\n",
       " 'tfidf__max_features': None,\n",
       " 'tfidf__min_df': 10,\n",
       " 'tfidf__ngram_range': (1, 1),\n",
       " 'tfidf__norm': 'l2',\n",
       " 'tfidf__preprocessor': None,\n",
       " 'tfidf__smooth_idf': True,\n",
       " 'tfidf__stop_words': None,\n",
       " 'tfidf__strip_accents': None,\n",
       " 'tfidf__sublinear_tf': False,\n",
       " 'tfidf__token_pattern': '[a-z][a-z][a-z]+',\n",
       " 'tfidf__tokenizer': None,\n",
       " 'tfidf__use_idf': True,\n",
       " 'tfidf__vocabulary': None,\n",
       " 'clf__bootstrap': True,\n",
       " 'clf__ccp_alpha': 0.0,\n",
       " 'clf__class_weight': None,\n",
       " 'clf__criterion': 'gini',\n",
       " 'clf__max_depth': None,\n",
       " 'clf__max_features': 'auto',\n",
       " 'clf__max_leaf_nodes': None,\n",
       " 'clf__max_samples': None,\n",
       " 'clf__min_impurity_decrease': 0.0,\n",
       " 'clf__min_impurity_split': None,\n",
       " 'clf__min_samples_leaf': 1,\n",
       " 'clf__min_samples_split': 2,\n",
       " 'clf__min_weight_fraction_leaf': 0.0,\n",
       " 'clf__n_estimators': 100,\n",
       " 'clf__n_jobs': None,\n",
       " 'clf__oob_score': False,\n",
       " 'clf__random_state': None,\n",
       " 'clf__verbose': 0,\n",
       " 'clf__warm_start': False}"
      ]
     },
     "execution_count": 28,
     "metadata": {},
     "output_type": "execute_result"
    }
   ],
   "source": [
    "reviews_pipe.get_params()"
   ]
  },
  {
   "cell_type": "code",
   "execution_count": 32,
   "id": "b610443e",
   "metadata": {},
   "outputs": [
    {
     "data": {
      "text/plain": [
       "GridSearchCV(cv=3,\n",
       "             estimator=Pipeline(steps=[('tfidf',\n",
       "                                        TfidfVectorizer(max_df=0.5, min_df=10,\n",
       "                                                        token_pattern='[a-z][a-z][a-z]+')),\n",
       "                                       ('clf', RandomForestClassifier())]),\n",
       "             param_grid=[{'clf__max_depth': [128, 256, 512],\n",
       "                          'clf__n_estimators': [64, 128, 256],\n",
       "                          'tfidf__min_df': [1, 10],\n",
       "                          'tfidf__ngram_range': [(1, 1), (1, 2), (1, 3)]}])"
      ]
     },
     "execution_count": 32,
     "metadata": {},
     "output_type": "execute_result"
    }
   ],
   "source": [
    "max_depth=[128, 256, 512]\n",
    "n_estimators = [64, 128, 256]\n",
    "\n",
    "param_grid_reviews = [{'clf__max_depth': max_depth,\n",
    "                       'clf__n_estimators': n_estimators,\n",
    "                       'tfidf__min_df':[1, 10],\n",
    "                       'tfidf__ngram_range':[(1,1), (1, 2), (1,3)]}]\n",
    "\n",
    "grid_reviews = GridSearchCV(estimator=reviews_pipe, param_grid =param_grid_reviews, cv=3) \n",
    "\n",
    "grid_reviews.fit(X_valid, y_valid)"
   ]
  },
  {
   "cell_type": "code",
   "execution_count": 33,
   "id": "fd7d69af",
   "metadata": {},
   "outputs": [
    {
     "data": {
      "text/plain": [
       "{'memory': None,\n",
       " 'steps': [('tfidf',\n",
       "   TfidfVectorizer(max_df=0.5, min_df=10, ngram_range=(1, 2),\n",
       "                   token_pattern='[a-z][a-z][a-z]+')),\n",
       "  ('clf', RandomForestClassifier(max_depth=128, n_estimators=128))],\n",
       " 'verbose': False,\n",
       " 'tfidf': TfidfVectorizer(max_df=0.5, min_df=10, ngram_range=(1, 2),\n",
       "                 token_pattern='[a-z][a-z][a-z]+'),\n",
       " 'clf': RandomForestClassifier(max_depth=128, n_estimators=128),\n",
       " 'tfidf__analyzer': 'word',\n",
       " 'tfidf__binary': False,\n",
       " 'tfidf__decode_error': 'strict',\n",
       " 'tfidf__dtype': numpy.float64,\n",
       " 'tfidf__encoding': 'utf-8',\n",
       " 'tfidf__input': 'content',\n",
       " 'tfidf__lowercase': True,\n",
       " 'tfidf__max_df': 0.5,\n",
       " 'tfidf__max_features': None,\n",
       " 'tfidf__min_df': 10,\n",
       " 'tfidf__ngram_range': (1, 2),\n",
       " 'tfidf__norm': 'l2',\n",
       " 'tfidf__preprocessor': None,\n",
       " 'tfidf__smooth_idf': True,\n",
       " 'tfidf__stop_words': None,\n",
       " 'tfidf__strip_accents': None,\n",
       " 'tfidf__sublinear_tf': False,\n",
       " 'tfidf__token_pattern': '[a-z][a-z][a-z]+',\n",
       " 'tfidf__tokenizer': None,\n",
       " 'tfidf__use_idf': True,\n",
       " 'tfidf__vocabulary': None,\n",
       " 'clf__bootstrap': True,\n",
       " 'clf__ccp_alpha': 0.0,\n",
       " 'clf__class_weight': None,\n",
       " 'clf__criterion': 'gini',\n",
       " 'clf__max_depth': 128,\n",
       " 'clf__max_features': 'auto',\n",
       " 'clf__max_leaf_nodes': None,\n",
       " 'clf__max_samples': None,\n",
       " 'clf__min_impurity_decrease': 0.0,\n",
       " 'clf__min_impurity_split': None,\n",
       " 'clf__min_samples_leaf': 1,\n",
       " 'clf__min_samples_split': 2,\n",
       " 'clf__min_weight_fraction_leaf': 0.0,\n",
       " 'clf__n_estimators': 128,\n",
       " 'clf__n_jobs': None,\n",
       " 'clf__oob_score': False,\n",
       " 'clf__random_state': None,\n",
       " 'clf__verbose': 0,\n",
       " 'clf__warm_start': False}"
      ]
     },
     "execution_count": 33,
     "metadata": {},
     "output_type": "execute_result"
    }
   ],
   "source": [
    "best = grid_reviews.best_estimator_\n",
    "best.get_params()"
   ]
  },
  {
   "cell_type": "code",
   "execution_count": 34,
   "id": "38db33e1",
   "metadata": {},
   "outputs": [
    {
     "name": "stdout",
     "output_type": "stream",
     "text": [
      "Best Estimator Training accuracy: 0.5530\n",
      "Best Estimator Test accuracy: 0.5477\n"
     ]
    }
   ],
   "source": [
    "print(f'Best Estimator Training accuracy: {best.score(X_train, y_train):.4f}')\n",
    "print(f'Best Estimator Test accuracy: {best.score(X_test, y_test):.4f}')"
   ]
  },
  {
   "cell_type": "code",
   "execution_count": null,
   "id": "8cf67ea9",
   "metadata": {},
   "outputs": [],
   "source": []
  }
 ],
 "metadata": {
  "kernelspec": {
   "display_name": "Python 3",
   "language": "python",
   "name": "python3"
  },
  "language_info": {
   "codemirror_mode": {
    "name": "ipython",
    "version": 3
   },
   "file_extension": ".py",
   "mimetype": "text/x-python",
   "name": "python",
   "nbconvert_exporter": "python",
   "pygments_lexer": "ipython3",
   "version": "3.8.8"
  }
 },
 "nbformat": 4,
 "nbformat_minor": 5
}
